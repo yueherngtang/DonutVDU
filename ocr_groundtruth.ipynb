{
 "cells": [
  {
   "cell_type": "code",
   "execution_count": 12,
   "id": "d72bdce7",
   "metadata": {
    "papermill": {
     "duration": 0.241601,
     "end_time": "2023-01-14T20:52:55.299845",
     "exception": false,
     "start_time": "2023-01-14T20:52:55.058244",
     "status": "completed"
    },
    "tags": []
   },
   "outputs": [],
   "source": [
    "import numpy as np \n",
    "import pandas as pd \n",
    "import re\n",
    "import cv2\n",
    "import json\n",
    "import pytesseract\n",
    "import numpy as np\n",
    "import pandas as pd\n",
    "import PIL\n",
    "from PIL import Image, ImageDraw\n",
    "from pytesseract import Output\n",
    "import matplotlib.pyplot as plt\n",
    "\n",
    "import os"
   ]
  },
  {
   "cell_type": "code",
   "execution_count": null,
   "id": "b2526fba",
   "metadata": {
    "_cell_guid": "b1076dfc-b9ad-4769-8c92-a6c4dae69d19",
    "_uuid": "8f2839f25d086af736a60e9eeb907d3b93b6e0e5",
    "papermill": {
     "duration": 0.034213,
     "end_time": "2023-01-14T20:52:55.342836",
     "exception": false,
     "start_time": "2023-01-14T20:52:55.308623",
     "status": "completed"
    },
    "tags": []
   },
   "outputs": [],
   "source": [
    "# for dirname, _, filenames in os.walk('/kaggle/input'):\n",
    "#     for filename in filenames:\n",
    "#         print(os.path.join(dirname, filename))"
   ]
  },
  {
   "cell_type": "code",
   "execution_count": null,
   "id": "ec171886",
   "metadata": {
    "papermill": {
     "duration": 0.0192,
     "end_time": "2023-01-14T20:52:55.369442",
     "exception": false,
     "start_time": "2023-01-14T20:52:55.350242",
     "status": "completed"
    },
    "tags": []
   },
   "outputs": [],
   "source": [
    "pytesseract.pytesseract.tesseract_cmd = r'C:\\Program Files\\Tesseract-OCR\\tesseract.exe' # Change your Tesseract directory here PWEASE <3\n",
    "MAIN_FILE_PATH = 'C:/Users/User/Downloads' # Change your directory here as well to where your output jsonl file from Doccano is located <3"
   ]
  },
  {
   "cell_type": "code",
   "execution_count": null,
   "id": "a02f01d2",
   "metadata": {
    "papermill": {
     "duration": 0.01994,
     "end_time": "2023-01-14T20:52:55.396721",
     "exception": false,
     "start_time": "2023-01-14T20:52:55.376781",
     "status": "completed"
    },
    "tags": []
   },
   "outputs": [],
   "source": [
    "def crop_image(row):\n",
    "    \"\"\"Crop image based on coordinates.\n",
    "    \"\"\"\n",
    "    \n",
    "    file_name = row['filename']\n",
    "    image = cv2.imread(f'{MAIN_FILE_PATH}/{file_name}')\n",
    "    \n",
    "    x1 = round(row['x1'])\n",
    "    y1 = round(row['y1'])\n",
    "    x2 = round(row['x2'])\n",
    "    y2 = round(row['y2'])\n",
    "    \n",
    "    cropped_image = image[y1:y2, x1:x2]\n",
    "    \n",
    "    return cropped_image"
   ]
  },
  {
   "cell_type": "code",
   "execution_count": null,
   "id": "10a6f49c",
   "metadata": {
    "papermill": {
     "duration": 0.022026,
     "end_time": "2023-01-14T20:52:55.429203",
     "exception": false,
     "start_time": "2023-01-14T20:52:55.407177",
     "status": "completed"
    },
    "tags": []
   },
   "outputs": [],
   "source": [
    "custom_config = '--oem 3 --psm 6 -c preserve_interword_spaces=1'\n",
    "\n",
    "def get_image_text(image, config=custom_config):\n",
    "    \"\"\"OCR image to get text from it.\n",
    "\n",
    "    Args:\n",
    "        image (_type_): input image of a document\n",
    "        config (str, optional): Settings for tesseract OCR. Defaults to custom_config.\n",
    "\n",
    "    Returns:\n",
    "        str: Extracted text from image\n",
    "    \"\"\"\n",
    "    # Convert to gray scale\n",
    "    gray_image = cv2.cvtColor(image, cv2.COLOR_BGR2GRAY)\n",
    "\n",
    "    # threshold_img = cv2.threshold(gray_image, 0, 255, cv2.THRESH_BINARY | cv2.THRESH_OTSU)[1]\n",
    "    \n",
    "    ocr_output = pytesseract.image_to_string(gray_image, lang='eng', config=config)\n",
    "    \n",
    "    return ocr_output"
   ]
  },
  {
   "cell_type": "code",
   "execution_count": null,
   "id": "84aa7828",
   "metadata": {
    "papermill": {
     "duration": 0.021625,
     "end_time": "2023-01-14T20:52:55.461244",
     "exception": false,
     "start_time": "2023-01-14T20:52:55.439619",
     "status": "completed"
    },
    "tags": []
   },
   "outputs": [],
   "source": [
    "def get_info_by_id(df: pd.DataFrame, id: int) -> pd.DataFrame:\n",
    "    \"\"\"Return data from table by id.\n",
    "\n",
    "    Args:\n",
    "        df (pd.DataFrame): input dataframe\n",
    "        id (int): object linked id in the dataframe\n",
    "\n",
    "    Returns:\n",
    "        pd.DataFrame: DataFrame slice\n",
    "    \"\"\"\n",
    "    df_new = df[df['id'] == id]\n",
    "    \n",
    "    return df_new"
   ]
  },
  {
   "cell_type": "code",
   "execution_count": null,
   "id": "4196ee98",
   "metadata": {
    "papermill": {
     "duration": 0.018121,
     "end_time": "2023-01-14T20:52:55.492392",
     "exception": false,
     "start_time": "2023-01-14T20:52:55.474271",
     "status": "completed"
    },
    "tags": []
   },
   "outputs": [],
   "source": [
    "def tryloc(df, col_input, col_output, value, default=None) -> str:\n",
    "  \"\"\"Return text from one column based on another column value.\n",
    "  If there is any issue with col_output, return default value.\n",
    "\n",
    "  Args:\n",
    "      df (pd.DataFrame): input dataframe\n",
    "      col_input (str): column whose values to check\n",
    "      col_output (str): column whose values to take based on col_input condition\n",
    "      value (str): value to look for in col_input\n",
    "      default (str, optional): if any problem with col_output return dafault. Defaults to None.\n",
    "\n",
    "  Returns:\n",
    "      str: output from condition\n",
    "  \"\"\"\n",
    "  \n",
    "  try:\n",
    "    return df.loc[df[col_input]==value, col_output].iloc[0]\n",
    "  except IndexError:\n",
    "    return default"
   ]
  },
  {
   "cell_type": "code",
   "execution_count": null,
   "id": "48e325a0",
   "metadata": {
    "papermill": {
     "duration": 0.019014,
     "end_time": "2023-01-14T20:52:55.519367",
     "exception": false,
     "start_time": "2023-01-14T20:52:55.500353",
     "status": "completed"
    },
    "tags": []
   },
   "outputs": [],
   "source": [
    "def add_to_dict(df: pd.DataFrame) -> dict:\n",
    "    \"\"\"Format dataframe data into dict.\n",
    "\n",
    "    Args:\n",
    "        df (pd.DataFrame): Dataframe containing extracted OCR data.\n",
    "\n",
    "    Returns:\n",
    "        dict: Formatted dictionary with structured data.\n",
    "    \"\"\"\n",
    "    dct = dict()\n",
    "\n",
    "    dct['merchant'] = tryloc(df, 'label', 'text', 'merchant') or None\n",
    "    dct['date'] = tryloc(df, 'label', 'text', 'date') or None\n",
    "    dct['recipient'] = tryloc(df, 'label', 'text', 'recipient') or None\n",
    "\n",
    "    dct = {k: v for k, v in dct.items() if v is not None}\n",
    "\n",
    "     # dct['menu'] = {\n",
    "    #     'nm': tryloc(df, 'label', 'text', 'item'),\n",
    "    #     'num': tryloc(df, 'label', 'text', 'num'),\n",
    "    #     'unitprice': tryloc(df, 'label', 'text', 'unitprice'),\n",
    "    #     'cnt': tryloc(df, 'label', 'text', 'cnt'),\n",
    "    #     'discountprice': tryloc(df, 'label', 'text', 'discountprice'),\n",
    "    #     'price': tryloc(df, 'label', 'text', 'price'),\n",
    "    #     'itemsubtotal': tryloc(df, 'label', 'text', 'itemsubtotal'),\n",
    "    #     'etc': tryloc(df, 'label', 'text', 'etc'),\n",
    "    # }\n",
    "    \n",
    "    menu_items = []\n",
    "    current_item = {}\n",
    "\n",
    "    # df = df.sort_values(by='y1')\n",
    "    # print(df)\n",
    "\n",
    "    # for _, row in df.iterrows():\n",
    "    #     if row['label'] == 'nm':\n",
    "    #         # If there's an existing item, push it to the list before starting a new one\n",
    "    #         if current_item.get('nm'):\n",
    "    #             # Remove None values from the current item before saving\n",
    "    #             menu_items.append({k: v for k, v in current_item.items() if v is not None})\n",
    "    #             current_item = {}\n",
    "\n",
    "    #         # Start a new menu item — inherit existing attributes if they exist\n",
    "    #         current_item['nm'] = row['text']\n",
    "    #         current_item.setdefault('num', None)\n",
    "    #         current_item.setdefault('unitprice', None)\n",
    "    #         current_item.setdefault('lineprice', None)\n",
    "    #         current_item.setdefault('discountprice', None)\n",
    "    #         current_item.setdefault('price', None)\n",
    "    #         current_item.setdefault('itemsubtotal', None)\n",
    "    #         current_item.setdefault('etc', None)\n",
    "\n",
    "    #     elif row['label'] == 'cnt':\n",
    "    #         # Set value even if item hasn't appeared yet\n",
    "    #         current_item.setdefault('cnt', row['text'])\n",
    "\n",
    "    #     elif row['label'] == 'unitprice':\n",
    "    #         # Set value even if item hasn't appeared yet\n",
    "    #         current_item.setdefault('unitprice', row['text'])\n",
    "\n",
    "    #     elif row['label'] == 'num':\n",
    "    #         # Set value even if item hasn't appeared yet\n",
    "    #         current_item.setdefault('num', row['text'])\n",
    "\n",
    "    #     elif row['label'] == 'discountprice':\n",
    "    #         # Set value even if item hasn't appeared yet\n",
    "    #         current_item.setdefault('discountprice', row['text'])\n",
    "\n",
    "    #     elif row['label'] == 'price':\n",
    "    #         # Set value even if item hasn't appeared yet\n",
    "    #         current_item.setdefault('price', row['text'])\n",
    "\n",
    "    #     elif row['label'] == 'itemsubtotal':\n",
    "    #         # Set value even if item hasn't appeared yet\n",
    "    #         current_item.setdefault('itemsubtotal', row['text'])\n",
    "\n",
    "    #     elif row['label'] == 'etc':\n",
    "    #         # Set value even if item hasn't appeared yet\n",
    "    #         current_item.setdefault('etc', row['text'])\n",
    "\n",
    "        #print(current_item)\n",
    "\n",
    "    \n",
    "    # if current_item:\n",
    "    #     menu_items.append({k: v for k, v in current_item.items() if v is not None})\n",
    "\n",
    "    # if menu_items:\n",
    "    #     dct['menu'] = menu_items\n",
    "\n",
    "    \n",
    "    nm_list = df.loc[df['label'] == 'nm', ['text', 'y1']].sort_values(by='y1').to_dict('records')\n",
    "    cnt_list = df.loc[df['label'] == 'cnt', ['text', 'y1']].sort_values(by='y1').to_dict('records')\n",
    "    num_list = df.loc[df['label'] == 'num', ['text', 'y1']].sort_values(by='y1').to_dict('records')\n",
    "    unitprice_list = df.loc[df['label'] == 'unitprice', ['text', 'y1']].sort_values(by='y1').to_dict('records')\n",
    "    lineprice_list = df.loc[df['label'] == 'lineprice', ['text', 'y1']].sort_values(by='y1').to_dict('records')\n",
    "    discountprice_list = df.loc[df['label'] == 'discountprice', ['text', 'y1']].sort_values(by='y1').to_dict('records')\n",
    "    price_list = df.loc[df['label'] == 'price', ['text', 'y1']].sort_values(by='y1').to_dict('records')\n",
    "    itemsubtotal_list = df.loc[df['label'] == 'itemsubtotal', ['text', 'y1']].sort_values(by='y1').to_dict('records')\n",
    "    etc_list = df.loc[df['label'] == 'etc', ['text', 'y1']].sort_values(by='y1').to_dict('records')\n",
    "    \n",
    "    menu_items = []\n",
    "    \n",
    "    while nm_list or num_list or unitprice_list or lineprice_list or discountprice_list or price_list or itemsubtotal_list or etc_list:\n",
    "        item = {}\n",
    "\n",
    "        # Pop from each list (if available)\n",
    "        if nm_list:\n",
    "            item['nm'] = nm_list.pop(0)['text']\n",
    "        if cnt_list:\n",
    "            item['cnt'] = cnt_list.pop(0)['text']\n",
    "        if num_list:\n",
    "            item['num'] = num_list.pop(0)['text']\n",
    "        if unitprice_list:\n",
    "            item['unitprice'] = unitprice_list.pop(0)['text']\n",
    "        if lineprice_list:\n",
    "            item['lineprice'] = lineprice_list.pop(0)['text']\n",
    "        if discountprice_list:\n",
    "            item['discountprice'] = discountprice_list.pop(0)['text']\n",
    "        if price_list:\n",
    "            item['price'] = price_list.pop(0)['text']\n",
    "        if itemsubtotal_list:\n",
    "            item['itemsubtotal'] = itemsubtotal_list.pop(0)['text']\n",
    "        if etc_list:\n",
    "            item['etc'] = etc_list.pop(0)['text']\n",
    "\n",
    "        # Remove None values and store the item\n",
    "        if item:\n",
    "            item = {k: v for k, v in item.items() if v is not None}\n",
    "            menu_items.append(item)\n",
    "    if menu_items:\n",
    "        dct['menu'] = menu_items\n",
    "\n",
    "\n",
    "    subtotal = {\n",
    "        'subtotal_price': tryloc(df, 'label', 'text', 'subtotal_price'),\n",
    "        'discount_price': tryloc(df, 'label', 'text', 'discount_price'),\n",
    "        'service_price': tryloc(df, 'label', 'text', 'service_price'),\n",
    "        'othersvc_price': tryloc(df, 'label', 'text', 'othersvc_price'),\n",
    "        'tax_price': tryloc(df, 'label', 'text', 'tax_price'),\n",
    "        'etc': tryloc(df, 'label', 'text', 'subtotal_etc')\n",
    "    }\n",
    "\n",
    "    subtotal = {k: v for k, v in subtotal.items() if v is not None}\n",
    "    \n",
    "    if subtotal:\n",
    "        dct['subtotal'] = subtotal\n",
    "\n",
    "    total = {\n",
    "        'total_price': tryloc(df, 'label', 'text', 'total_price'),\n",
    "        'total_etc': tryloc(df, 'label', 'text', 'total_etc'),\n",
    "        'cashprice': tryloc(df, 'label', 'text', 'cashprice'),\n",
    "        'changeprice': tryloc(df, 'label', 'text', 'changeprice'),\n",
    "        'menuqty_cnt': tryloc(df, 'label', 'text', 'menuqty_cnt')\n",
    "    }\n",
    "\n",
    "    total = {k: v for k, v in total.items() if v is not None}\n",
    "\n",
    "    if total:\n",
    "        dct['total'] = total\n",
    "\n",
    "    return dct\n"
   ]
  },
  {
   "cell_type": "code",
   "execution_count": null,
   "id": "018550b8",
   "metadata": {
    "papermill": {
     "duration": 0.019597,
     "end_time": "2023-01-14T20:52:55.546284",
     "exception": false,
     "start_time": "2023-01-14T20:52:55.526687",
     "status": "completed"
    },
    "tags": []
   },
   "outputs": [],
   "source": [
    "# Change your directory here: This is the file that looks up the jsonl output from Doccano\n",
    "# f = open('C:/Users/User/Downloads/all.jsonl')\n",
    "\n",
    "with open(\"C:\\\\Users\\\\user\\\\OneDrive\\\\Documents\\\\MONASH SEM6\\\\FIT3164 - FYP\\\\JPG_BATCH_3\\\\all.jsonl\", 'r') as f:\n",
    "    data = [json.loads(line) for line in f]\n",
    "\n",
    "# Now you have a list of dictionaries, one for each line in the JSONL file\n",
    "# print(data)\n",
    "# image_tags = json.load(f)"
   ]
  },
  {
   "cell_type": "code",
   "execution_count": null,
   "id": "c3c97939-f2fb-4c8a-8807-c1ecf40e7097",
   "metadata": {},
   "outputs": [],
   "source": [
    "dataset_donut = []"
   ]
  },
  {
   "cell_type": "code",
   "execution_count": null,
   "id": "86c099de",
   "metadata": {
    "papermill": {
     "duration": 0.030506,
     "end_time": "2023-01-14T20:52:55.584071",
     "exception": false,
     "start_time": "2023-01-14T20:52:55.553565",
     "status": "completed"
    },
    "tags": []
   },
   "outputs": [],
   "source": [
    "for image_tags in data:\n",
    "    flatten = pd.json_normalize(image_tags, meta=[\"id\", \"filename\"], record_path=[\"bbox\"])\n",
    "    flatten.rename(columns={\"x\": \"x1\", \"y\": \"y1\"}, inplace=True)\n",
    "    flatten['x2'] = flatten['x1'] + flatten['width']\n",
    "    flatten['y2'] = flatten['y1'] + flatten['height']\n",
    "    final_coordinates = flatten[['id', 'filename', 'x1', 'y1', 'x2', 'y2', 'width', 'height', 'label']]\n",
    "    final_coordinates['text'] = final_coordinates.apply(lambda row: get_image_text(crop_image(row)), axis=1)\n",
    "    # Edit output text to remove newline string, double quotes and extra whitespace\n",
    "    # ---- before json-ing the text\n",
    "    final_coordinates['text'] = final_coordinates['text'].apply(lambda row: row.strip())\n",
    "    final_coordinates['text'] = final_coordinates['text'].apply(lambda row: row.replace('\\n', \" \"))\n",
    "    final_coordinates['text'] = final_coordinates['text'].apply(lambda row: row.replace('\"', \" \"))\n",
    "    final_coordinates['text'] = final_coordinates['text'].apply(lambda row: re.sub(' +', ' ', row))\n",
    "\n",
    "    #print(final_coordinates)\n",
    "\n",
    "    ids_list = final_coordinates['id'].unique()\n",
    "\n",
    "    for id in ids_list:\n",
    "        df_segment = get_info_by_id(final_coordinates, id)\n",
    "        dataset_donut.append({\n",
    "                'id': id,\n",
    "                'file_name': final_coordinates.loc[final_coordinates['id']==id, 'filename'].iloc[0],\n",
    "                'ground_truth': {\n",
    "                        'gt_parse': add_to_dict(df_segment)\n",
    "            }})    "
   ]
  },
  {
   "cell_type": "code",
   "execution_count": null,
   "id": "a32c5383",
   "metadata": {
    "papermill": {
     "duration": 1.057732,
     "end_time": "2023-01-14T20:52:56.829119",
     "exception": false,
     "start_time": "2023-01-14T20:52:55.771387",
     "status": "completed"
    },
    "tags": []
   },
   "outputs": [],
   "source": [
    "dataset_donut"
   ]
  },
  {
   "cell_type": "code",
   "execution_count": null,
   "id": "94794e75",
   "metadata": {},
   "outputs": [],
   "source": [
    "sorted_dataset = sorted(dataset_donut, key=lambda x: x['id'])\n",
    "with open(\"C:/Users/User/Desktop/FIT3164/Dataset/81-160_REPLACE.json\", \"w\") as f:\n",
    "    for item in sorted_dataset:\n",
    "        f.write(json.dumps(item) + \"\\n\")"
   ]
  }
 ],
 "metadata": {
  "kernelspec": {
   "display_name": "pyt_env",
   "language": "python",
   "name": "python3"
  },
  "language_info": {
   "codemirror_mode": {
    "name": "ipython",
    "version": 3
   },
   "file_extension": ".py",
   "mimetype": "text/x-python",
   "name": "python",
   "nbconvert_exporter": "python",
   "pygments_lexer": "ipython3",
   "version": "3.9.19"
  },
  "papermill": {
   "default_parameters": {},
   "duration": 13.028659,
   "end_time": "2023-01-14T20:52:59.034026",
   "environment_variables": {},
   "exception": null,
   "input_path": "__notebook__.ipynb",
   "output_path": "__notebook__.ipynb",
   "parameters": {},
   "start_time": "2023-01-14T20:52:46.005367",
   "version": "2.3.4"
  },
  "widgets": {
   "application/vnd.jupyter.widget-state+json": {
    "state": {},
    "version_major": 2,
    "version_minor": 0
   }
  }
 },
 "nbformat": 4,
 "nbformat_minor": 5
}
